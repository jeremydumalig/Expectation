{
 "cells": [
  {
   "cell_type": "code",
   "execution_count": 1,
   "metadata": {},
   "outputs": [],
   "source": [
    "import pandas as pd\n",
    "import numpy as np\n",
    "from sklearn.ensemble import RandomForestRegressor"
   ]
  },
  {
   "cell_type": "markdown",
   "metadata": {},
   "source": [
    "# Dataset Preparation"
   ]
  },
  {
   "cell_type": "code",
   "execution_count": 2,
   "metadata": {},
   "outputs": [],
   "source": [
    "# Load datasets from 2000 through 2022\n",
    "nba = pd.read_csv(\"historical-data/nba2000s.csv\")\n",
    "\n",
    "# Load dataset from 2021-2022\n",
    "nba22 = pd.read_csv(\"historical-data/nba22.csv\")"
   ]
  },
  {
   "cell_type": "code",
   "execution_count": 3,
   "metadata": {},
   "outputs": [],
   "source": [
    "# Filter for GP minimum\n",
    "nba = nba[(nba.GP >= 41) & (nba.GP2 >= 41)]\n",
    "nba22 = nba22[(nba22.GP >= 41)]"
   ]
  },
  {
   "cell_type": "markdown",
   "metadata": {},
   "source": [
    "# Regression Model\n",
    "\n",
    "#### Points Per Game in Year 2 should depend on Year 1 attributes:\n",
    "\n",
    "* Age\n",
    "* Minutes\n",
    "* Points\n",
    "* FG%\n",
    "* 3P%\n",
    "* FT%\n",
    "* USG%"
   ]
  },
  {
   "cell_type": "code",
   "execution_count": 4,
   "metadata": {},
   "outputs": [],
   "source": [
    "# Create list of predictor variables\n",
    "cols = ['AGE', 'MIN', 'PPG', 'FG%', '3P%', 'FT%', 'USG%']"
   ]
  },
  {
   "cell_type": "markdown",
   "metadata": {},
   "source": [
    "### Training Set"
   ]
  },
  {
   "cell_type": "code",
   "execution_count": 5,
   "metadata": {},
   "outputs": [
    {
     "data": {
      "text/html": [
       "<div>\n",
       "<style scoped>\n",
       "    .dataframe tbody tr th:only-of-type {\n",
       "        vertical-align: middle;\n",
       "    }\n",
       "\n",
       "    .dataframe tbody tr th {\n",
       "        vertical-align: top;\n",
       "    }\n",
       "\n",
       "    .dataframe thead th {\n",
       "        text-align: right;\n",
       "    }\n",
       "</style>\n",
       "<table border=\"1\" class=\"dataframe\">\n",
       "  <thead>\n",
       "    <tr style=\"text-align: right;\">\n",
       "      <th></th>\n",
       "      <th>AGE</th>\n",
       "      <th>MIN</th>\n",
       "      <th>PPG</th>\n",
       "      <th>FG%</th>\n",
       "      <th>3P%</th>\n",
       "      <th>FT%</th>\n",
       "      <th>USG%</th>\n",
       "      <th>PPG2</th>\n",
       "    </tr>\n",
       "  </thead>\n",
       "  <tbody>\n",
       "    <tr>\n",
       "      <th>0</th>\n",
       "      <td>36</td>\n",
       "      <td>31.1</td>\n",
       "      <td>7.6</td>\n",
       "      <td>41.9</td>\n",
       "      <td>33.8</td>\n",
       "      <td>77.7</td>\n",
       "      <td>14.0</td>\n",
       "      <td>8.4</td>\n",
       "    </tr>\n",
       "    <tr>\n",
       "      <th>1</th>\n",
       "      <td>29</td>\n",
       "      <td>28.5</td>\n",
       "      <td>10.2</td>\n",
       "      <td>45.7</td>\n",
       "      <td>0.0</td>\n",
       "      <td>78.7</td>\n",
       "      <td>17.7</td>\n",
       "      <td>7.2</td>\n",
       "    </tr>\n",
       "    <tr>\n",
       "      <th>2</th>\n",
       "      <td>26</td>\n",
       "      <td>29.2</td>\n",
       "      <td>9.8</td>\n",
       "      <td>43.0</td>\n",
       "      <td>30.6</td>\n",
       "      <td>75.2</td>\n",
       "      <td>17.2</td>\n",
       "      <td>11.8</td>\n",
       "    </tr>\n",
       "    <tr>\n",
       "      <th>3</th>\n",
       "      <td>25</td>\n",
       "      <td>34.7</td>\n",
       "      <td>15.8</td>\n",
       "      <td>45.2</td>\n",
       "      <td>26.6</td>\n",
       "      <td>83.3</td>\n",
       "      <td>22.8</td>\n",
       "      <td>16.5</td>\n",
       "    </tr>\n",
       "    <tr>\n",
       "      <th>4</th>\n",
       "      <td>25</td>\n",
       "      <td>41.4</td>\n",
       "      <td>24.9</td>\n",
       "      <td>44.2</td>\n",
       "      <td>30.2</td>\n",
       "      <td>71.5</td>\n",
       "      <td>27.6</td>\n",
       "      <td>19.7</td>\n",
       "    </tr>\n",
       "  </tbody>\n",
       "</table>\n",
       "</div>"
      ],
      "text/plain": [
       "   AGE   MIN   PPG   FG%   3P%   FT%  USG%  PPG2\n",
       "0   36  31.1   7.6  41.9  33.8  77.7  14.0   8.4\n",
       "1   29  28.5  10.2  45.7   0.0  78.7  17.7   7.2\n",
       "2   26  29.2   9.8  43.0  30.6  75.2  17.2  11.8\n",
       "3   25  34.7  15.8  45.2  26.6  83.3  22.8  16.5\n",
       "4   25  41.4  24.9  44.2  30.2  71.5  27.6  19.7"
      ]
     },
     "execution_count": 5,
     "metadata": {},
     "output_type": "execute_result"
    }
   ],
   "source": [
    "# Define training set of all seasons before 2021-22\n",
    "train_set = nba[nba.YEAR2 != 2022][cols + ['PPG2']]\n",
    "\n",
    "train_set.head()"
   ]
  },
  {
   "cell_type": "code",
   "execution_count": 6,
   "metadata": {},
   "outputs": [],
   "source": [
    "# Prepare predictor variables, output from 2000s data\n",
    "X = train_set[cols]\n",
    "Y = train_set['PPG2']"
   ]
  },
  {
   "cell_type": "markdown",
   "metadata": {},
   "source": [
    "### Random Forest"
   ]
  },
  {
   "cell_type": "code",
   "execution_count": 7,
   "metadata": {},
   "outputs": [
    {
     "data": {
      "text/plain": [
       "RandomForestRegressor(random_state=0)"
      ]
     },
     "execution_count": 7,
     "metadata": {},
     "output_type": "execute_result"
    }
   ],
   "source": [
    "# Train model\n",
    "random_forest = RandomForestRegressor(random_state = 0)\n",
    "random_forest.fit(X, Y)"
   ]
  },
  {
   "cell_type": "code",
   "execution_count": 8,
   "metadata": {},
   "outputs": [],
   "source": [
    "# Calculate predicted PPG and PPG differential, residuals\n",
    "nba['PRED_RF'] = nba.apply(lambda df : random_forest.predict([df[cols].values])[0], axis=1)\n",
    "nba['d_PRED'] = nba.PRED_RF - nba.PPG\n",
    "nba['RES_RF'] = nba.PPG2 - nba.PRED_RF"
   ]
  },
  {
   "cell_type": "markdown",
   "metadata": {},
   "source": [
    "# Model Results"
   ]
  },
  {
   "cell_type": "code",
   "execution_count": 9,
   "metadata": {
    "scrolled": true
   },
   "outputs": [
    {
     "data": {
      "text/html": [
       "<div>\n",
       "<style scoped>\n",
       "    .dataframe tbody tr th:only-of-type {\n",
       "        vertical-align: middle;\n",
       "    }\n",
       "\n",
       "    .dataframe tbody tr th {\n",
       "        vertical-align: top;\n",
       "    }\n",
       "\n",
       "    .dataframe thead th {\n",
       "        text-align: right;\n",
       "    }\n",
       "</style>\n",
       "<table border=\"1\" class=\"dataframe\">\n",
       "  <thead>\n",
       "    <tr style=\"text-align: right;\">\n",
       "      <th></th>\n",
       "      <th>PLAYER</th>\n",
       "      <th>TEAM</th>\n",
       "      <th>PPG</th>\n",
       "      <th>PPG2</th>\n",
       "      <th>d_PPG</th>\n",
       "      <th>d_PRED</th>\n",
       "      <th>PRED_RF</th>\n",
       "      <th>RES_RF</th>\n",
       "    </tr>\n",
       "  </thead>\n",
       "  <tbody>\n",
       "    <tr>\n",
       "      <th>0</th>\n",
       "      <td>DeMar DeRozan</td>\n",
       "      <td>SAS</td>\n",
       "      <td>21.6</td>\n",
       "      <td>27.9</td>\n",
       "      <td>6.3</td>\n",
       "      <td>-1.6</td>\n",
       "      <td>20.0</td>\n",
       "      <td>7.9</td>\n",
       "    </tr>\n",
       "    <tr>\n",
       "      <th>1</th>\n",
       "      <td>Reggie Jackson</td>\n",
       "      <td>LAC</td>\n",
       "      <td>10.7</td>\n",
       "      <td>16.8</td>\n",
       "      <td>6.1</td>\n",
       "      <td>-1.7</td>\n",
       "      <td>9.0</td>\n",
       "      <td>7.8</td>\n",
       "    </tr>\n",
       "    <tr>\n",
       "      <th>2</th>\n",
       "      <td>Desmond Bane</td>\n",
       "      <td>MEM</td>\n",
       "      <td>9.2</td>\n",
       "      <td>18.2</td>\n",
       "      <td>9.0</td>\n",
       "      <td>1.4</td>\n",
       "      <td>10.6</td>\n",
       "      <td>7.6</td>\n",
       "    </tr>\n",
       "    <tr>\n",
       "      <th>3</th>\n",
       "      <td>Anfernee Simons</td>\n",
       "      <td>POR</td>\n",
       "      <td>7.8</td>\n",
       "      <td>17.3</td>\n",
       "      <td>9.5</td>\n",
       "      <td>2.0</td>\n",
       "      <td>9.8</td>\n",
       "      <td>7.5</td>\n",
       "    </tr>\n",
       "    <tr>\n",
       "      <th>4</th>\n",
       "      <td>Tyrese Maxey</td>\n",
       "      <td>PHI</td>\n",
       "      <td>8.0</td>\n",
       "      <td>17.5</td>\n",
       "      <td>9.5</td>\n",
       "      <td>2.1</td>\n",
       "      <td>10.1</td>\n",
       "      <td>7.4</td>\n",
       "    </tr>\n",
       "  </tbody>\n",
       "</table>\n",
       "</div>"
      ],
      "text/plain": [
       "            PLAYER TEAM   PPG  PPG2  d_PPG  d_PRED  PRED_RF  RES_RF\n",
       "0    DeMar DeRozan  SAS  21.6  27.9    6.3    -1.6     20.0     7.9\n",
       "1   Reggie Jackson  LAC  10.7  16.8    6.1    -1.7      9.0     7.8\n",
       "2     Desmond Bane  MEM   9.2  18.2    9.0     1.4     10.6     7.6\n",
       "3  Anfernee Simons  POR   7.8  17.3    9.5     2.0      9.8     7.5\n",
       "4     Tyrese Maxey  PHI   8.0  17.5    9.5     2.1     10.1     7.4"
      ]
     },
     "execution_count": 9,
     "metadata": {},
     "output_type": "execute_result"
    }
   ],
   "source": [
    "# Sort by random forest residuals, reset indices\n",
    "nba = nba.sort_values(by=['RES_RF'], ascending=False)\n",
    "nba = nba.reset_index(drop=True)\n",
    "\n",
    "# Show top 10 players from 2021-22\n",
    "nba2022 = nba[(nba.YEAR2 == 2022)].round(1).reset_index(drop=True)\n",
    "nba2022[['PLAYER', 'TEAM', 'PPG', 'PPG2', 'd_PPG', 'd_PRED', 'PRED_RF', 'RES_RF']].head()"
   ]
  },
  {
   "cell_type": "markdown",
   "metadata": {},
   "source": [
    "# Model Validation"
   ]
  },
  {
   "cell_type": "code",
   "execution_count": 10,
   "metadata": {},
   "outputs": [
    {
     "name": "stdout",
     "output_type": "stream",
     "text": [
      "R-Squared: 0.79\n",
      "RMSE: 2.86\n"
     ]
    }
   ],
   "source": [
    "test_set = nba[nba.YEAR2 == 2022]\n",
    "\n",
    "r_squared = 1 - (np.sum(test_set.RES_RF ** 2) / np.sum((np.mean(test_set.PPG2) - test_set.PPG2) ** 2))\n",
    "rmse = np.sqrt( np.sum(test_set.RES_RF ** 2) / len(test_set) )\n",
    "\n",
    "print(\"R-Squared:\", round(r_squared, 2))\n",
    "print(\"RMSE:\", round(rmse, 2))"
   ]
  },
  {
   "cell_type": "markdown",
   "metadata": {},
   "source": [
    "# 2022-23 Predictions"
   ]
  },
  {
   "cell_type": "code",
   "execution_count": null,
   "metadata": {},
   "outputs": [],
   "source": [
    "# Calculate predicted PPG and PPG differential\n",
    "nba22['PRED_RF'] = nba22.apply(lambda df : random_forest.predict([df[cols].values])[0], axis=1)\n",
    "nba22['d_PRED'] = nba22.PRED_RF - nba22.PPG"
   ]
  },
  {
   "cell_type": "code",
   "execution_count": null,
   "metadata": {
    "scrolled": true
   },
   "outputs": [],
   "source": [
    "# Sort by random forest residuals, reset indices\n",
    "nba22 = nba22.sort_values(by=['d_PRED'], ascending=False)\n",
    "nba22 = nba22.reset_index(drop=True)\n",
    "\n",
    "# Create new dataframe with selected columns\n",
    "results22 = nba22[['PLAYER', 'TEAM', 'GP', 'PPG', 'PRED_RF', 'd_PRED']].round(1)\n",
    "results22.head()"
   ]
  },
  {
   "cell_type": "markdown",
   "metadata": {},
   "source": [
    "# Export data"
   ]
  },
  {
   "cell_type": "code",
   "execution_count": null,
   "metadata": {},
   "outputs": [],
   "source": [
    "predictions = nba[nba.YEAR2 == 2022]\n",
    "predictions = predictions.reset_index(drop=True)\n",
    "predictions['RANK'] = predictions.index + 1\n",
    "predictions = predictions[['RANK', 'PLAYER', 'TEAM', 'PPG', 'PPG2', 'PRED_RF', 'RES_RF']].round(1)"
   ]
  },
  {
   "cell_type": "code",
   "execution_count": null,
   "metadata": {
    "scrolled": true
   },
   "outputs": [],
   "source": [
    "predictions.to_csv(\"nba_predictions_2022.csv\")"
   ]
  }
 ],
 "metadata": {
  "kernelspec": {
   "display_name": "Python 3",
   "language": "python",
   "name": "python3"
  },
  "language_info": {
   "codemirror_mode": {
    "name": "ipython",
    "version": 3
   },
   "file_extension": ".py",
   "mimetype": "text/x-python",
   "name": "python",
   "nbconvert_exporter": "python",
   "pygments_lexer": "ipython3",
   "version": "3.7.7"
  }
 },
 "nbformat": 4,
 "nbformat_minor": 4
}
